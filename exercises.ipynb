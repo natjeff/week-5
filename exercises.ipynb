{
 "cells": [
  {
   "cell_type": "markdown",
   "id": "e3aad6c5",
   "metadata": {},
   "source": [
    "<font color='darkorange'> Unless otherwise noted, **this notebook will not be reviewed or autograded.**</font> You are welcome to use it for scratchwork, but **only the files listed in the exercises will be checked.**\n",
    "\n",
    "---\n",
    "\n",
    "# Exercises\n",
    "\n",
    "For these exercises, add your functions to the *apputil\\.py* file and *app\\.py* file as instructed. *These exercises use the same [Titanic dataset](https://www.kaggle.com/competitions/titanic/data) as the lab.*\n",
    "\n",
    "\n",
    "## Exercise 1: Survival Patterns\n"
   ]
  },
  {
   "cell_type": "markdown",
   "id": "5833bb5f",
   "metadata": {},
   "source": [
    "For this exercise you will analyze survival patterns on the Titanic by looking at passenger class, sex, and age group. Name the function `survival_demographics()`.\n",
    "\n",
    "1. Create a new column in the Titanic dataset that classifies passengers into age categories (i.e., a pandas `category` series). The categories should be:\n",
    "    - Child (up to 12)\n",
    "    - Teen (13–19)\n",
    "    - Adult (20–59)\n",
    "    - Senior (60+)  \n",
    "  \n",
    "\tHint: The `pd.cut()` function might come in handy here.\n",
    "\n",
    "2. Group the passengers by class, sex, and age group.  \n",
    "\n",
    "3. For each group, calculate:  \n",
    "    - The total number of passengers, `n_passengers`\n",
    "    - The number of survivors, `n_survivors`\n",
    "    - The survival rate, `survival_rate`\n",
    "\n",
    "4. Return a table that includes the results for *all* combinations of class, sex, and age group.  \n",
    "\n",
    "5. Order the results so they are easy to interpret.  \n",
    "\n",
    "6. Come up with a clear question that your results table makes you curious about (e.g., “Did women in first class have a higher survival rate than men in other classes?”). Write this question in your `app.py` file above the call to your visualization function, using `st.write(\"Your Question Here\")`.\n",
    "   \n",
    "7. Create a Plotly visualization in a function named `visualize_demographic()` that directly addresses your question by returning a Plotly figure (e.g., `fig = px. ...`). You are free to choose the chart type that you think best communicates the findings. Be creative — try different approaches, compare them, and ensure that your chart clearly answers the question you posed.\n"
   ]
  },
  {
   "cell_type": "code",
   "execution_count": null,
   "id": "49a2e1ac",
   "metadata": {},
   "outputs": [
    {
     "name": "stdout",
     "output_type": "stream",
     "text": [
      "    Pclass     Sex AgeGroup  n_passengers  n_survivors  survival_rate\n",
      "0        1  female    Adult            68           66       0.970588\n",
      "1        1  female    Child             1            0       0.000000\n",
      "2        1  female   Senior             3            3       1.000000\n",
      "3        1  female     Teen            13           13       1.000000\n",
      "4        1    male    Adult            80           34       0.425000\n",
      "5        1    male    Child             3            3       1.000000\n",
      "6        1    male   Senior            14            2       0.142857\n",
      "7        1    male     Teen             4            1       0.250000\n",
      "8        2  female    Adult            58           52       0.896552\n",
      "9        2  female    Child             8            8       1.000000\n",
      "10       2  female   Senior             0            0            NaN\n",
      "11       2  female     Teen             8            8       1.000000\n"
     ]
    },
    {
     "name": "stderr",
     "output_type": "stream",
     "text": [
      "/tmp/ipykernel_5470/3307828408.py:17: FutureWarning: The default of observed=False is deprecated and will be changed to True in a future version of pandas. Pass observed=False to retain current behavior or observed=True to adopt the future default and silence this warning.\n",
      "  grouped = df.groupby([\"Pclass\", \"Sex\", \"AgeGroup\"]).agg(\n"
     ]
    }
   ],
   "source": [
    "import pandas as pd\n",
    "\n",
    "def survival_demographics(df: pd.DataFrame) -> pd.DataFrame:\n",
    "    \"\"\"\n",
    "    Analyze Titanic survival patterns by class, sex, and age group.\n",
    "    \"\"\"\n",
    "\n",
    "    # Step 1: Add AgeGroup column\n",
    "    age_bins = [0, 12, 19, 59, float(\"inf\")]\n",
    "    age_labels = [\"Child\", \"Teen\", \"Adult\", \"Senior\"]\n",
    "\n",
    "    df[\"AgeGroup\"] = pd.cut(\n",
    "        df[\"Age\"], bins=age_bins, labels=age_labels, right=True\n",
    "    )\n",
    "\n",
    "    # Step 2 & 3: Group by class, sex, and age group\n",
    "    grouped = df.groupby([\"Pclass\", \"Sex\", \"AgeGroup\"]).agg(\n",
    "        n_passengers=(\"Survived\", \"count\"),\n",
    "        n_survivors=(\"Survived\", \"sum\")\n",
    "    )\n",
    "    grouped[\"survival_rate\"] = grouped[\"n_survivors\"] / grouped[\"n_passengers\"]\n",
    "\n",
    "    # Step 4: Establish combinations\n",
    "    all_combinations = pd.MultiIndex.from_product(\n",
    "        [df[\"Pclass\"].unique(),\n",
    "         df[\"Sex\"].unique(),\n",
    "         df[\"AgeGroup\"].cat.categories],\n",
    "        names=[\"Pclass\", \"Sex\", \"AgeGroup\"]\n",
    "    )\n",
    "    grouped = grouped.reindex(all_combinations, fill_value=0).reset_index()\n",
    "\n",
    "    # Step 5: Sort results\n",
    "    grouped = grouped.sort_values(by=[\"Pclass\", \"Sex\", \"AgeGroup\"]).reset_index(drop=True)\n",
    "\n",
    "    return grouped\n",
    "\n",
    "# Read and display results\n",
    "df = pd.read_csv('https://raw.githubusercontent.com/leontoddjohnson/datasets/main/data/titanic.csv')\n",
    "results = survival_demographics(df)\n",
    "print(results.head(12))"
   ]
  },
  {
   "cell_type": "code",
   "execution_count": null,
   "id": "48beeef7",
   "metadata": {},
   "outputs": [
    {
     "name": "stderr",
     "output_type": "stream",
     "text": [
      "2025-09-30 19:15:46.199 WARNING streamlit.runtime.scriptrunner_utils.script_run_context: Thread 'MainThread': missing ScriptRunContext! This warning can be ignored when running in bare mode.\n",
      "2025-09-30 19:15:46.284 \n",
      "  \u001b[33m\u001b[1mWarning:\u001b[0m to view this Streamlit app on a browser, run it with the following\n",
      "  command:\n",
      "\n",
      "    streamlit run /root/miniconda3/lib/python3.11/site-packages/ipykernel_launcher.py [ARGUMENTS]\n",
      "2025-09-30 19:15:46.285 Thread 'MainThread': missing ScriptRunContext! This warning can be ignored when running in bare mode.\n",
      "2025-09-30 19:15:46.285 Thread 'MainThread': missing ScriptRunContext! This warning can be ignored when running in bare mode.\n",
      "/tmp/ipykernel_5470/3307828408.py:17: FutureWarning: The default of observed=False is deprecated and will be changed to True in a future version of pandas. Pass observed=False to retain current behavior or observed=True to adopt the future default and silence this warning.\n",
      "  grouped = df.groupby([\"Pclass\", \"Sex\", \"AgeGroup\"]).agg(\n",
      "2025-09-30 19:15:46.481 Thread 'MainThread': missing ScriptRunContext! This warning can be ignored when running in bare mode.\n",
      "2025-09-30 19:15:46.482 Thread 'MainThread': missing ScriptRunContext! This warning can be ignored when running in bare mode.\n",
      "2025-09-30 19:15:46.483 Thread 'MainThread': missing ScriptRunContext! This warning can be ignored when running in bare mode.\n",
      "2025-09-30 19:15:46.483 Thread 'MainThread': missing ScriptRunContext! This warning can be ignored when running in bare mode.\n",
      "2025-09-30 19:15:46.484 Thread 'MainThread': missing ScriptRunContext! This warning can be ignored when running in bare mode.\n"
     ]
    },
    {
     "data": {
      "text/plain": [
       "DeltaGenerator()"
      ]
     },
     "execution_count": 10,
     "metadata": {},
     "output_type": "execute_result"
    }
   ],
   "source": [
    "import plotly.express as px\n",
    "import streamlit as st\n",
    "\n",
    "# Step 6: Question\n",
    "st.write(\"Did children in third class have lower survival rates compared to children in higher classes?\")\n",
    "\n",
    "# Step 7: Fig 1\n",
    "def visualize_demographic(results: pd.DataFrame):\n",
    "    \"\"\"\n",
    "    Creates a Plotly visualization to compare survival rates of children\n",
    "    across different passenger classes\n",
    "    \"\"\"\n",
    "    \n",
    "    children = results[results[\"AgeGroup\"] == \"Child\"]\n",
    "\n",
    "    # Plot survival rates by class and sex\n",
    "    fig1 = px.bar(\n",
    "        children,\n",
    "        x=\"Pclass\",\n",
    "        y=\"survival_rate\",\n",
    "        color=\"Sex\",\n",
    "        barmode=\"group\",\n",
    "        labels={\"survival_rate\": \"Survival Rate\", \"Pclass\": \"Passenger Class\"},\n",
    "        title=\"Survival Rates of Children Across Classes by Sex\"\n",
    "    )\n",
    "    return fig1\n",
    "\n",
    "df = pd.read_csv('https://raw.githubusercontent.com/leontoddjohnson/datasets/main/data/titanic.csv')\n",
    "results = survival_demographics(df)\n",
    "\n",
    "# Display Fig 1\n",
    "fig1 = visualize_demographic(results)\n",
    "st.plotly_chart(fig1)"
   ]
  },
  {
   "cell_type": "markdown",
   "id": "3e8a0793",
   "metadata": {},
   "source": [
    "## Exercise 2: Family Size and Wealth"
   ]
  },
  {
   "cell_type": "markdown",
   "id": "93bea550",
   "metadata": {},
   "source": [
    "Using the Titanic dataset, write a function named `family_groups()` to explore the relationship between family size, passenger class, and ticket fare.  \n",
    "\n",
    "1. Create a new column in the Titanic dataset that represents the total family size for each passenger, `family_size`. Family size is defined as the number of siblings/spouses aboard plus the number of parents/children aboard, plus the passenger themselves.\n",
    "\n",
    "2. Group the passengers by family size and passenger class. For each group, calculate:  \n",
    "   - The total number of passengers, `n_passengers`\n",
    "   - The average ticket fare, `avg_fare`\n",
    "   - The minimum and maximum ticket fares (to capture variation in wealth), `min_fare` and `max_fare`\n",
    "\n",
    "3. Return a table with these results, sorted so that the values are clear and easy to interpret (for example, by class and then family size).\n",
    "\n",
    "4. Write a function called `last_names()` that extracts the last name of each passenger from the `Name` column, and returns the count for each last name (i.e., a pandas series with last name as index, and count as value). Does this result agree with that of the data table above? Share your findings in your app using `st.write`.\n",
    "\n",
    "5. Just like you did in Exercise 1, come up with a clear question that your results makes you curious about. Write this question in your app.py file above the call to your visualization function. Then, create a Plotly visualization in a function named `visualize_families()` that directly addresses your question. As in Exercise 1 you are free to choose the chart type that you think best communicates the findings."
   ]
  },
  {
   "cell_type": "code",
   "execution_count": null,
   "id": "d4c40b9b",
   "metadata": {},
   "outputs": [
    {
     "name": "stdout",
     "output_type": "stream",
     "text": [
      "   Pclass  family_size  n_passengers    avg_fare  min_fare  max_fare\n",
      "0       1            1           109   63.672514    0.0000  512.3292\n",
      "1       1            2            70   91.848039   29.7000  512.3292\n",
      "2       1            3            24   95.681075   26.2833  211.5000\n",
      "3       1            4             7  133.521429  120.0000  151.5500\n",
      "4       1            5             2  262.375000  262.3750  262.3750\n",
      "5       1            6             4  263.000000  263.0000  263.0000\n",
      "6       2            1           104   14.066106    0.0000   73.5000\n",
      "7       2            2            34   24.682962   11.5000   33.0000\n",
      "8       2            3            31   31.693819   13.0000   73.5000\n",
      "9       2            4            13   36.575969   11.5000   65.0000\n",
      "LastName\n",
      "Andersson    9\n",
      "Sage         7\n",
      "Skoog        6\n",
      "Panula       6\n",
      "Carter       6\n",
      "Goodwin      6\n",
      "Johnson      6\n",
      "Rice         5\n",
      "Fortune      4\n",
      "Williams     4\n",
      "Name: count, dtype: int64\n"
     ]
    }
   ],
   "source": [
    "\n",
    "import pandas as pd\n",
    "\n",
    "def family_groups(df: pd.DataFrame) -> pd.DataFrame:\n",
    "    \"\"\"\n",
    "    Explore the relationship between family size, passenger class, and ticket fare.     \n",
    "    \"\"\"\n",
    "    # Step 1: Create family_size column\n",
    "    df[\"family_size\"] = df[\"SibSp\"] + df[\"Parch\"] + 1\n",
    "\n",
    "    # Step 2 & 3: Group and aggregate\n",
    "    grouped = df.groupby([\"Pclass\", \"family_size\"]).agg(\n",
    "        n_passengers=(\"Fare\", \"count\"),\n",
    "        avg_fare=(\"Fare\", \"mean\"),\n",
    "        min_fare=(\"Fare\", \"min\"),\n",
    "        max_fare=(\"Fare\", \"max\")\n",
    "    ).reset_index()\n",
    "\n",
    "    # Step 4: Sort\n",
    "    grouped = grouped.sort_values(by=[\"Pclass\", \"family_size\"]).reset_index(drop=True)\n",
    "\n",
    "    return grouped\n",
    "\n",
    "\n",
    "def last_names(df: pd.DataFrame) -> pd.Series:\n",
    "    \"\"\"\n",
    "    Extract last names from the Titanic dataset and count their occurrences.\n",
    "    \"\"\"\n",
    "    # Extract last name and count occurrences\n",
    "    df[\"LastName\"] = df[\"Name\"].str.split(\",\").str[0].str.strip()\n",
    "    last_name_counts = df[\"LastName\"].value_counts()\n",
    "\n",
    "    return last_name_counts\n",
    "\n",
    "\n",
    "df = pd.read_csv(\"https://raw.githubusercontent.com/leontoddjohnson/datasets/main/data/titanic.csv\")\n",
    "\n",
    "# Family Groups\n",
    "family_results = family_groups(df)\n",
    "print(family_results.head(10))\n",
    "\n",
    "# Last Names\n",
    "surname_counts = last_names(df)\n",
    "print(surname_counts.head(10))\n"
   ]
  },
  {
   "cell_type": "markdown",
   "id": "fd60f1c3",
   "metadata": {},
   "source": [
    "## Bonus Question\n",
    "\n",
    "Add a new column, `older_passenger`, to the Titanic dataset that indicates whether each passenger’s age is above the median age for *their* passenger class. So, suppose row $x$ is in passenger class 2. Then, a value of `True` at row $x$ would indicate that passenger older than 50% of class 2 passengers, and `False` would indicate that they younger.\n",
    "\n",
    "- You should use pandas functions to accomplish this.\n",
    "- The new column should contain Boolean values (True if the age is above the median, False if less than or equal to).\n",
    "- Return the updated table in the function `determine_age_division()`\n",
    "\n",
    "Once you’ve created this column, consider how this age division relates to your analysis above. Try to visualize this analysis in Plotly using the function name `visualize_age_division()`."
   ]
  },
  {
   "cell_type": "markdown",
   "id": "496069f5",
   "metadata": {},
   "source": []
  }
 ],
 "metadata": {
  "kernelspec": {
   "display_name": "base",
   "language": "python",
   "name": "python3"
  },
  "language_info": {
   "codemirror_mode": {
    "name": "ipython",
    "version": 3
   },
   "file_extension": ".py",
   "mimetype": "text/x-python",
   "name": "python",
   "nbconvert_exporter": "python",
   "pygments_lexer": "ipython3",
   "version": "3.11.13"
  }
 },
 "nbformat": 4,
 "nbformat_minor": 5
}
